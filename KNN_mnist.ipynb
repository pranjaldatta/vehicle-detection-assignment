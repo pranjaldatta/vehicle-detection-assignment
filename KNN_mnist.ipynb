{
  "nbformat": 4,
  "nbformat_minor": 0,
  "metadata": {
    "colab": {
      "name": "KNN_mnist.ipynb",
      "provenance": [],
      "collapsed_sections": [],
      "authorship_tag": "ABX9TyPsfxIXUpn1R7w8Jnc5ztpE",
      "include_colab_link": true
    },
    "kernelspec": {
      "name": "python3",
      "display_name": "Python 3"
    },
    "accelerator": "GPU"
  },
  "cells": [
    {
      "cell_type": "markdown",
      "metadata": {
        "id": "view-in-github",
        "colab_type": "text"
      },
      "source": [
        "<a href=\"https://colab.research.google.com/github/pranjaldatta/vehicle-detection-assignment/blob/main/KNN_mnist.ipynb\" target=\"_parent\"><img src=\"https://colab.research.google.com/assets/colab-badge.svg\" alt=\"Open In Colab\"/></a>"
      ]
    },
    {
      "cell_type": "code",
      "metadata": {
        "id": "2fUeKfNfMQK0",
        "outputId": "b5035426-0a8c-4dce-c938-e398e50f9a43",
        "colab": {
          "base_uri": "https://localhost:8080/"
        }
      },
      "source": [
        "!nvidia-smi"
      ],
      "execution_count": 1,
      "outputs": [
        {
          "output_type": "stream",
          "text": [
            "Thu Nov  5 16:16:21 2020       \n",
            "+-----------------------------------------------------------------------------+\n",
            "| NVIDIA-SMI 455.32.00    Driver Version: 418.67       CUDA Version: 10.1     |\n",
            "|-------------------------------+----------------------+----------------------+\n",
            "| GPU  Name        Persistence-M| Bus-Id        Disp.A | Volatile Uncorr. ECC |\n",
            "| Fan  Temp  Perf  Pwr:Usage/Cap|         Memory-Usage | GPU-Util  Compute M. |\n",
            "|                               |                      |               MIG M. |\n",
            "|===============================+======================+======================|\n",
            "|   0  Tesla T4            Off  | 00000000:00:04.0 Off |                    0 |\n",
            "| N/A   37C    P8     9W /  70W |      0MiB / 15079MiB |      0%      Default |\n",
            "|                               |                      |                 ERR! |\n",
            "+-------------------------------+----------------------+----------------------+\n",
            "                                                                               \n",
            "+-----------------------------------------------------------------------------+\n",
            "| Processes:                                                                  |\n",
            "|  GPU   GI   CI        PID   Type   Process name                  GPU Memory |\n",
            "|        ID   ID                                                   Usage      |\n",
            "|=============================================================================|\n",
            "|  No running processes found                                                 |\n",
            "+-----------------------------------------------------------------------------+\n"
          ],
          "name": "stdout"
        }
      ]
    },
    {
      "cell_type": "code",
      "metadata": {
        "id": "m6tu8w0oMck4"
      },
      "source": [
        "import numpy as np \n",
        "import torch \n",
        "from keras.datasets import mnist\n",
        "import sklearn\n",
        "from tqdm import tqdm\n",
        "import random\n",
        "import matplotlib.pyplot as plt\n",
        "import time\n",
        "\n",
        "from sklearn.neighbors import KNeighborsClassifier"
      ],
      "execution_count": 50,
      "outputs": []
    },
    {
      "cell_type": "code",
      "metadata": {
        "id": "xlKBw3YdMj3S",
        "outputId": "7a7b47dd-f709-408e-f747-a6e7a277463c",
        "colab": {
          "base_uri": "https://localhost:8080/"
        }
      },
      "source": [
        "#Here we load the dataset from keras\n",
        "\n",
        "(xtrain,ytrain),(xtest,ytest)=mnist.load_data()\n",
        "print(\"No of training datapoints:{}\\nNo of Test datapoints:{}\".format(len(xtrain),len(xtest)))"
      ],
      "execution_count": 76,
      "outputs": [
        {
          "output_type": "stream",
          "text": [
            "No of training datapoints:60000\n",
            "No of Test datapoints:10000\n"
          ],
          "name": "stdout"
        }
      ]
    },
    {
      "cell_type": "code",
      "metadata": {
        "id": "vbPbB6ugS1Jb",
        "outputId": "f312791b-0fd8-4d41-bc7d-e264cfe2e1bc",
        "colab": {
          "base_uri": "https://localhost:8080/",
          "height": 309
        }
      },
      "source": [
        "\"\"\"\n",
        "Here we Try to visualize some of the images\n",
        "\"\"\"\n",
        "\n",
        "rand_idx = random.sample(range(60000), 4)\n",
        "\n",
        "f, axes=plt.subplots(2,2)\n",
        "\n",
        "f.tight_layout(pad=2.0)\n",
        "\n",
        "#showing images with gaussian noise\n",
        "axes[0,0].imshow(xtrain[rand_idx[0]],cmap=\"gray\")\n",
        "axes[0,0].set_title(ytrain[rand_idx[0]])\n",
        "axes[1,0].imshow(xtrain[rand_idx[1]],cmap='gray')\n",
        "axes[1,0].set_title(ytrain[rand_idx[1]])\n",
        "\n",
        "#showing images with speckle noise\n",
        "axes[0,1].imshow(xtrain[rand_idx[2]],cmap='gray')\n",
        "axes[0,1].set_title(ytrain[rand_idx[2]])\n",
        "axes[1,1].imshow(xtrain[rand_idx[3]],cmap=\"gray\")\n",
        "axes[1,1].set_title(ytrain[rand_idx[3]])"
      ],
      "execution_count": 77,
      "outputs": [
        {
          "output_type": "execute_result",
          "data": {
            "text/plain": [
              "Text(0.5, 1.0, '1')"
            ]
          },
          "metadata": {
            "tags": []
          },
          "execution_count": 77
        },
        {
          "output_type": "display_data",
          "data": {
            "image/png": "[encoded data removed]",
            "text/plain": [
              "<Figure size 432x288 with 4 Axes>"
            ]
          },
          "metadata": {
            "tags": [],
            "needs_background": "light"
          }
        }
      ]
    },
    {
      "cell_type": "code",
      "metadata": {
        "id": "qMpD82vSMqkn"
      },
      "source": [
        "# An utility function to flatten an image from (H, W, C) to (1, H*W*C)\n",
        "def flatten(x):\n",
        "  return np.reshape(x, (1, -1))\n",
        "  \n",
        "# An utility function to unflatten an image from (1, H*W*C) to (H, W, C)\n",
        "def deflatten(x, h=28, w=28, c=1):\n",
        "  return np.reshape(x, (h, w, c))\n"
      ],
      "execution_count": 78,
      "outputs": []
    },
    {
      "cell_type": "code",
      "metadata": {
        "id": "bodSsJ2FRtrm"
      },
      "source": [
        "len_train = xtrain.shape[0]\n",
        "len_test = xtest.shape[0]"
      ],
      "execution_count": 79,
      "outputs": []
    },
    {
      "cell_type": "code",
      "metadata": {
        "id": "lXs1GM-4Mv_H",
        "outputId": "e65a0216-1fd8-4c4b-bf5a-ca5f4d8acd4f",
        "colab": {
          "base_uri": "https://localhost:8080/"
        }
      },
      "source": [
        "# Convert train examples from [N, 28, 28] to [N, 784]\n",
        "\n",
        "trainimgs = np.zeros((len_train, 784))\n",
        "testimgs = np.zeros((len_test, 784))\n",
        "\n",
        "for idx in tqdm(range(len_train)):\n",
        "  trainimgs[idx, :] = flatten(xtrain[idx])\n",
        "\n",
        "# Convert test examples from [N, 28, 28] to [N, 784]\n",
        "\n",
        "testimgs = np.zeros((len_test, 784))\n",
        "\n",
        "for idx in tqdm(range(len_test)):\n",
        "  testimgs[idx, :] = flatten(xtest[idx])\n"
      ],
      "execution_count": 80,
      "outputs": [
        {
          "output_type": "stream",
          "text": [
            "100%|██████████| 60000/60000 [00:00<00:00, 288854.30it/s]\n",
            "100%|██████████| 10000/10000 [00:00<00:00, 268112.86it/s]\n"
          ],
          "name": "stderr"
        }
      ]
    },
    {
      "cell_type": "code",
      "metadata": {
        "id": "4pdQ-ljrRF2P"
      },
      "source": [
        "# Initializing our KNN Model\n",
        "\n",
        "params = {\n",
        "  \"algorithm\": 'auto',\n",
        "  \"metric\": 'minkowski',\n",
        "  \"n_neighbors\": 3,     \n",
        "}\n",
        "\n",
        "\n",
        "knn = KNeighborsClassifier(**params)"
      ],
      "execution_count": 81,
      "outputs": []
    },
    {
      "cell_type": "code",
      "metadata": {
        "id": "fQdpnb7gSTKr",
        "outputId": "fb39bd21-01fe-4f5b-8443-949f0bae3073",
        "colab": {
          "base_uri": "https://localhost:8080/"
        }
      },
      "source": [
        "# Lets fit the model with our training data! \n",
        "\n",
        "start_time = time.time()\n",
        "knn.fit(trainimgs, ytrain)\n",
        "print(f\"Time taken to fit data: {time.time() - start_time} s\")"
      ],
      "execution_count": 82,
      "outputs": [
        {
          "output_type": "stream",
          "text": [
            "Time taken to fit data: 29.283182859420776 s\n"
          ],
          "name": "stdout"
        }
      ]
    },
    {
      "cell_type": "code",
      "metadata": {
        "id": "neXbQvWvU-vZ",
        "outputId": "c97f08f6-c59c-4392-dfc5-c59512813ec5",
        "colab": {
          "base_uri": "https://localhost:8080/",
          "height": 703
        }
      },
      "source": [
        "# Lets test our model!\n",
        "\n",
        "rand_idx = random.sample(range(10000), 10)\n",
        "\n",
        "f, axes=plt.subplots(5, 2)\n",
        "f.set_figheight(10)\n",
        "f.set_figwidth(10)\n",
        "f.tight_layout(pad=3)\n",
        "\n",
        "col = 0\n",
        "rows = [0, 0, 1, 1, 2, 2, 3, 3, 4, 4, 5, 5, 6, 6, 7, 7, 8, 8, 9, 9]\n",
        "for counter, idx, row in zip(range(10), rand_idx, rows):\n",
        "  \n",
        "  if counter % 2 != 0:\n",
        "    col = 1\n",
        "  else:\n",
        "    col = 0\n",
        "\n",
        "  pred = knn.predict(testimgs[idx].reshape(1, -1))\n",
        "  label = ytest[idx]\n",
        "  axes[row, col].imshow(xtest[idx], cmap='gray')\n",
        "  axes[row , col].set_title(f\"Predicted Label: {pred}, True Label: {label}\")\n",
        "\n",
        "\n",
        "\n",
        "\n"
      ],
      "execution_count": 106,
      "outputs": [
        {
          "output_type": "display_data",
          "data": {
            "image/png": "[encoded data removed]",
            "text/plain": [
              "<Figure size 720x720 with 10 Axes>"
            ]
          },
          "metadata": {
            "tags": [],
            "needs_background": "light"
          }
        }
      ]
    }
  ]
}